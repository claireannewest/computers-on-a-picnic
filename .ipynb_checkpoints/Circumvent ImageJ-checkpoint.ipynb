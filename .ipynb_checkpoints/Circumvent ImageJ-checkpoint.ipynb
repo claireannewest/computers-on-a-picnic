{
 "cells": [
  {
   "cell_type": "code",
   "execution_count": 1,
   "id": "4c33a39b",
   "metadata": {},
   "outputs": [],
   "source": [
    "import numpy as np\n",
    "import matplotlib.pyplot as plt\n",
    "import math\n",
    "import csv\n",
    "\n",
    "plt.rcParams['font.sans-serif'] = \"arial\"\n",
    "plt.rcParams['font.family'] = \"arial\"\n",
    "plt.rcParams['font.size'] = 18\n",
    "plt.rcParams['lines.linewidth'] = 3\n",
    "plt.rcParams['axes.linewidth'] = 3 \n",
    "plt.rcParams['xtick.major.size'] = 10\n",
    "plt.rcParams['xtick.major.width'] = 3\n",
    "plt.rcParams['ytick.major.size'] = 10\n",
    "plt.rcParams['ytick.major.width'] = 3"
   ]
  },
  {
   "cell_type": "code",
   "execution_count": 45,
   "id": "75a92a9f",
   "metadata": {},
   "outputs": [
    {
     "name": "stdout",
     "output_type": "stream",
     "text": [
      "\n",
      "\n",
      "\n",
      "\n",
      "\n",
      "\n",
      "\n",
      "\n"
     ]
    }
   ],
   "source": [
    "image_filename = str('via_nanoparticle_counter_csv.csv')\n",
    "\n",
    "all_xpoints = []\n",
    "all_ypoints = []\n",
    "kind_of_np = []\n",
    "scalebar_len_in_nm = []\n",
    "image_name_sb = []\n",
    "image_name_np = []\n",
    "\n",
    "idx = 0\n",
    "with open(image_filename, newline='') as csvfile:\n",
    "    reader = csv.DictReader(csvfile)\n",
    "    for row in reader:\n",
    "        kind_of_shape = row['region_attributes'].split('\"')\n",
    "        if len(kind_of_shape) == 1: continue\n",
    "            \n",
    "        if kind_of_shape[3] == 'scalebar':\n",
    "            scalebar_length = row['region_attributes'].split('\"')[-2].split(' ')\n",
    "            number = float(scalebar_length[0])\n",
    "            if scalebar_length[1] == 'um':\n",
    "                units = 1E3 # nm\n",
    "            if scalebar_length[1] == 'nm':\n",
    "                units = 1 # nm\n",
    "    \n",
    "            scale = number*units\n",
    "            scalebar_len_in_pixels = float(row['region_shape_attributes'].split('\"')[-3][1:-1])\n",
    "            scalebar_len_in_nm.append(scale/scalebar_len_in_pixels)\n",
    "            image_name_sb.append(row['filename'])\n",
    "            print()\n",
    "            print()\n",
    "        else:\n",
    "            xpoints = row['region_shape_attributes'].split('\"')[-3][1:-1].split(',')\n",
    "            xpoints[0] = xpoints[0][1:]; xpoints[-1] = xpoints[-1][:-1]\n",
    "            xpoints = list(map(int, xpoints))\n",
    "            all_xpoints.append(np.asarray(xpoints))\n",
    "            \n",
    "            ypoints = row['region_shape_attributes'].split('\"')[-1][1:-1].split(',')\n",
    "            ypoints[0] = ypoints[0][1:]; ypoints[-1] = ypoints[-1][:-1]\n",
    "            ypoints = np.asarray(list(map(int, ypoints)))\n",
    "            all_ypoints.append(np.asarray(ypoints))\n",
    "        \n",
    "            kind_of_np.append(row['region_attributes'].split('\"')[-2])\n",
    "            image_name_np.append(row['filename'])\n"
   ]
  },
  {
   "cell_type": "code",
   "execution_count": null,
   "id": "542d6c60",
   "metadata": {},
   "outputs": [],
   "source": []
  },
  {
   "cell_type": "code",
   "execution_count": null,
   "id": "e38512a1",
   "metadata": {},
   "outputs": [],
   "source": []
  },
  {
   "cell_type": "code",
   "execution_count": null,
   "id": "2193e349",
   "metadata": {},
   "outputs": [],
   "source": []
  },
  {
   "cell_type": "code",
   "execution_count": null,
   "id": "a8a55a13",
   "metadata": {},
   "outputs": [],
   "source": []
  },
  {
   "cell_type": "code",
   "execution_count": null,
   "id": "4a2ec77b",
   "metadata": {},
   "outputs": [],
   "source": [
    "\n",
    "        \n",
    "print(image_name_np)  \n",
    "print(scalebar_len_in_nm)"
   ]
  },
  {
   "cell_type": "code",
   "execution_count": 56,
   "id": "987ef7a6",
   "metadata": {},
   "outputs": [
    {
     "data": {
      "image/png": "[encoded data removed]",
      "text/plain": [
       "<Figure size 432x288 with 2 Axes>"
      ]
     },
     "metadata": {
      "needs_background": "light"
     },
     "output_type": "display_data"
    }
   ],
   "source": [
    "particle_size = np.zeros(len(all_ypoints))\n",
    "\n",
    "for idx, val in enumerate(all_ypoints):\n",
    "    a = np.array([all_xpoints[idx], all_ypoints[idx]])\n",
    "    dist = np.zeros((len(all_xpoints[idx]),len(all_ypoints[idx]) ))\n",
    "    for i in range(0,len(all_xpoints[idx])):\n",
    "        for j in range(0,len(all_ypoints[idx])):\n",
    "            dist[i,j] = np.round(np.sqrt(np.sum((a[:,i] - a[:,j])**2)))\n",
    "\n",
    "    idx_name = np.where(np.isin(image_name_sb, image_name_np[idx]) == True)[0][0]\n",
    "    particle_size[idx] = int(np.max(dist)*scalebar_len_in_nm[idx_name])\n",
    "\n",
    "fig, ax = plt.subplots()\n",
    "\n",
    "\n",
    "ax.hist(particle_size);\n",
    "ax.set_ylabel('Counts')\n",
    "ax.set_xlabel('Nanoparticle Size [nm]')\n",
    "plt.text(300,20, str('N = ')+str( len(particle_size)));\n",
    "plt.text(300,16, str(int(np.mean(particle_size)))+str(' $\\pm$ ')+str( int(np.std(particle_size))  )+str(' nm'));\n",
    "plt.title('Hexagons')\n",
    "im = plt.imread('hexagon.png') \n",
    "newax = fig.add_axes([0.6,0.35,0.15,0.15], anchor='NE', zorder=1)\n",
    "newax.imshow(im);\n",
    "newax.axis('off');\n",
    "\n",
    "\n"
   ]
  },
  {
   "cell_type": "code",
   "execution_count": null,
   "id": "2833a76b",
   "metadata": {},
   "outputs": [],
   "source": [
    "\n"
   ]
  },
  {
   "cell_type": "code",
   "execution_count": null,
   "id": "6892ee69",
   "metadata": {},
   "outputs": [],
   "source": []
  },
  {
   "cell_type": "code",
   "execution_count": null,
   "id": "c730eb40",
   "metadata": {},
   "outputs": [],
   "source": []
  },
  {
   "cell_type": "code",
   "execution_count": null,
   "id": "fd735b80",
   "metadata": {},
   "outputs": [],
   "source": []
  },
  {
   "cell_type": "code",
   "execution_count": null,
   "id": "3ba11ed1",
   "metadata": {},
   "outputs": [],
   "source": []
  },
  {
   "cell_type": "code",
   "execution_count": null,
   "id": "6c03f68e",
   "metadata": {},
   "outputs": [],
   "source": [
    "all_points_x = [1438,1515,1543,1501,1430,1370,1423]\n",
    "all_points_y = [565,573,641,711,711,634,570]\n",
    "a = np.array([all_points_x, all_points_y])\n",
    "dist = np.zeros((len(all_points_x),len(all_points_x) ))\n",
    "\n",
    "for i in range(0,len(all_points_x)):\n",
    "    for j in range(0,len(all_points_x)):\n",
    "        dist[i,j] = np.round(np.sqrt(np.sum((a[:,i] - a[:,j])**2)))\n",
    "    \n",
    "\n",
    "print(np.max(dist))\n",
    "plt.scatter(all_points_x, all_points_y)\n",
    "print(max(all_points_x)-min(all_points_x))"
   ]
  },
  {
   "cell_type": "code",
   "execution_count": null,
   "id": "bf8f7f08",
   "metadata": {},
   "outputs": [],
   "source": []
  }
 ],
 "metadata": {
  "kernelspec": {
   "display_name": "Python 3 (ipykernel)",
   "language": "python",
   "name": "python3"
  },
  "language_info": {
   "codemirror_mode": {
    "name": "ipython",
    "version": 3
   },
   "file_extension": ".py",
   "mimetype": "text/x-python",
   "name": "python",
   "nbconvert_exporter": "python",
   "pygments_lexer": "ipython3",
   "version": "3.8.11"
  }
 },
 "nbformat": 4,
 "nbformat_minor": 5
}
