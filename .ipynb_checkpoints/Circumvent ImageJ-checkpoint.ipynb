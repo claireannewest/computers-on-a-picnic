{
 "cells": [
  {
   "cell_type": "code",
   "execution_count": 6,
   "id": "721a6674",
   "metadata": {},
   "outputs": [],
   "source": [
    "import numpy as np\n",
    "import matplotlib.pyplot as plt\n",
    "import math"
   ]
  },
  {
   "cell_type": "code",
   "execution_count": 45,
   "id": "249501f0",
   "metadata": {},
   "outputs": [
    {
     "name": "stdout",
     "output_type": "stream",
     "text": [
      "[  0.          77.41446893 129.61867149 159.01257812 146.21901381\n",
      "  96.87620967   0.        ]\n"
     ]
    },
    {
     "data": {
      "text/plain": [
       "<matplotlib.collections.PathCollection at 0x7fe5cafc81f0>"
      ]
     },
     "execution_count": 45,
     "metadata": {},
     "output_type": "execute_result"
    },
    {
     "data": {
      "image/png": "[encoded data removed]",
      "text/plain": [
       "<Figure size 432x288 with 1 Axes>"
      ]
     },
     "metadata": {
      "needs_background": "light"
     },
     "output_type": "display_data"
    }
   ],
   "source": [
    "all_points_x = [1438,1515,1543,1501,1430,1370,1423]\n",
    "all_points_y = [565,573,641,711,711,634,570]\n",
    "a = np.array([all_points_x, all_points_y])\n",
    "dist = np.zeros((len(all_points_x),len(all_points_x) ))\n",
    "\n",
    "for i in range(0,len(all_points_x)-1):\n",
    "    for j in range(0,len(all_points_x)-1):\n",
    "        dist[i,j] = np.sqrt(np.sum((a[:,0] - a[:,i])**2))\n",
    "    \n",
    "\n",
    "print(distances)\n",
    "plt.scatter(all_points_x, all_points_y)\n"
   ]
  },
  {
   "cell_type": "code",
   "execution_count": null,
   "id": "8132c86f",
   "metadata": {},
   "outputs": [],
   "source": []
  }
 ],
 "metadata": {
  "kernelspec": {
   "display_name": "Python 3 (ipykernel)",
   "language": "python",
   "name": "python3"
  },
  "language_info": {
   "codemirror_mode": {
    "name": "ipython",
    "version": 3
   },
   "file_extension": ".py",
   "mimetype": "text/x-python",
   "name": "python",
   "nbconvert_exporter": "python",
   "pygments_lexer": "ipython3",
   "version": "3.8.11"
  }
 },
 "nbformat": 4,
 "nbformat_minor": 5
}
